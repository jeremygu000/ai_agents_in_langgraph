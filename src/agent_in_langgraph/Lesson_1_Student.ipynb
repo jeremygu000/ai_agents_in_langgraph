{
 "cells": [
  {
   "cell_type": "markdown",
   "id": "82c0183d",
   "metadata": {},
   "source": [
    "### based on https://til.simonwillison.net/llms/python-react-pattern"
   ]
  },
  {
   "cell_type": "code",
   "execution_count": 8,
   "id": "83fb645f",
   "metadata": {},
   "outputs": [],
   "source": [
    "import openai\n",
    "import re\n",
    "import httpx\n",
    "import os\n",
    "from dotenv import load_dotenv\n",
    "\n",
    "_ = load_dotenv()\n",
    "from openai import OpenAI"
   ]
  },
  {
   "cell_type": "code",
   "execution_count": 9,
   "id": "105cf3cf",
   "metadata": {},
   "outputs": [],
   "source": [
    "client = OpenAI()"
   ]
  },
  {
   "cell_type": "code",
   "execution_count": 5,
   "id": "4679d53b",
   "metadata": {},
   "outputs": [],
   "source": [
    "chat_completion = client.chat.completions.create(\n",
    "    model=\"gpt-4o-mini\", messages=[{\"role\": \"user\", \"content\": \"Hello World\"}]\n",
    ")"
   ]
  },
  {
   "cell_type": "code",
   "execution_count": 6,
   "id": "3ffa312a",
   "metadata": {},
   "outputs": [
    {
     "data": {
      "text/plain": [
       "'Hello! How can I assist you today?'"
      ]
     },
     "execution_count": 6,
     "metadata": {},
     "output_type": "execute_result"
    }
   ],
   "source": [
    "chat_completion.choices[0].message.content"
   ]
  },
  {
   "cell_type": "markdown",
   "id": "28dd9844",
   "metadata": {},
   "source": [
    "### Now, let's build a tool-calling agent"
   ]
  },
  {
   "cell_type": "code",
   "execution_count": 1,
   "id": "66378f40",
   "metadata": {},
   "outputs": [],
   "source": [
    "class Agent:\n",
    "    def __init__(self, system=\"\"):\n",
    "        # Initialize the system prompt (optional)\n",
    "        self.system = system\n",
    "        # Initialize the conversation history as a list of messages\n",
    "        self.messages = []\n",
    "        # If a system prompt is provided, add it to the message history\n",
    "        if self.system:\n",
    "            self.messages.append({\"role\": \"system\", \"content\": system})\n",
    "\n",
    "    def __call__(self, message):\n",
    "        # Add the user's message to the conversation history\n",
    "        self.messages.append({\"role\": \"user\", \"content\": message})\n",
    "        # Generate a response from the assistant\n",
    "        result = self.execute()\n",
    "        # Add the assistant's response to the conversation history\n",
    "        self.messages.append({\"role\": \"assistant\", \"content\": result})\n",
    "        # Return the response to the caller\n",
    "        return result\n",
    "\n",
    "    def execute(self):\n",
    "        # Call the OpenAI chat completion API using the current message history\n",
    "        completion = client.chat.completions.create(\n",
    "            model=\"gpt-4o-mini\",  # Specify the model to use\n",
    "            temperature=0,  # Use deterministic output (no randomness)\n",
    "            messages=self.messages,  # Provide full conversation context\n",
    "        )\n",
    "        # Return the assistant's message content from the first choice\n",
    "        return completion.choices[0].message.content"
   ]
  },
  {
   "cell_type": "markdown",
   "id": "6ae91eb2",
   "metadata": {},
   "source": [
    "### Now we will create a ReAct agent, a ReAct agent will take very specific system message (Prompt).\n",
    "\n",
    "It will use `thought` to describe its thoughts about the question it been asked, it will then use `action` to run one of the actions available to it, it will then return `pause`.\n",
    "\n",
    "After that, `observation` will be used to signal the result of running those actions. We then tell it what the available actions are. In this example, we give it access to calculate an average dog weight."
   ]
  },
  {
   "cell_type": "code",
   "execution_count": 2,
   "id": "4cfadb1f",
   "metadata": {},
   "outputs": [],
   "source": [
    "prompt = \"\"\"\n",
    "You run in a loop of Thought, Action, PAUSE, Observation.\n",
    "At the end of the loop you output an Answer\n",
    "Use Thought to describe your thoughts about the question you have been asked.\n",
    "Use Action to run one of the actions available to you - then return PAUSE.\n",
    "Observation will be the result of running those actions.\n",
    "\n",
    "Your available actions are:\n",
    "\n",
    "calculate:\n",
    "e.g. calculate: 4 * 7 / 3\n",
    "Runs a calculation and returns the number - uses Python so be sure to use floating point syntax if necessary\n",
    "\n",
    "average_dog_weight:\n",
    "e.g. average_dog_weight: Collie\n",
    "returns average weight of a dog when given the breed\n",
    "\n",
    "Example session:\n",
    "\n",
    "Question: How much does a Bulldog weigh?\n",
    "Thought: I should look the dogs weight using average_dog_weight\n",
    "Action: average_dog_weight: Bulldog\n",
    "PAUSE\n",
    "\n",
    "You will be called again with this:\n",
    "\n",
    "Observation: A Bulldog weights 51 lbs\n",
    "\n",
    "You then output:\n",
    "\n",
    "Answer: A bulldog weights 51 lbs\n",
    "\"\"\".strip()"
   ]
  },
  {
   "cell_type": "code",
   "execution_count": 3,
   "id": "059b0936",
   "metadata": {},
   "outputs": [],
   "source": [
    "def calculate(what):\n",
    "    \"\"\"\n",
    "    Evaluate a string expression using Python's built-in eval() function.\n",
    "\n",
    "    Parameters:\n",
    "        what (str): A string containing a Python expression to be evaluated.\n",
    "\n",
    "    Returns:\n",
    "        The result of evaluating the expression.\n",
    "\n",
    "    WARNING:\n",
    "        This function uses eval(), which can execute arbitrary code.\n",
    "        Do NOT use this with untrusted input, as it can lead to severe\n",
    "        security vulnerabilities such as code injection.\n",
    "    \"\"\"\n",
    "    return eval(what)\n",
    "\n",
    "\n",
    "def average_dog_weight(name):\n",
    "    if name in \"Scottish Terrier\":\n",
    "        return \"Scottish Terriers average 20 lbs\"\n",
    "    elif name in \"Border Collie\":\n",
    "        return \"a Border Collies average weight is 37 lbs\"\n",
    "    elif name in \"Toy Poodle\":\n",
    "        return \"a toy poodles average weight is 7 lbs\"\n",
    "    else:\n",
    "        return \"An average dog weights 50 lbs\"\n",
    "\n",
    "\n",
    "known_actions = {\"calculate\": calculate, \"average_dog_weight\": average_dog_weight}"
   ]
  },
  {
   "cell_type": "code",
   "execution_count": 5,
   "id": "1e3c9b30",
   "metadata": {},
   "outputs": [],
   "source": [
    "my_bot = Agent(prompt)"
   ]
  },
  {
   "cell_type": "code",
   "execution_count": null,
   "id": "9ca63ac5",
   "metadata": {},
   "outputs": [
    {
     "name": "stdout",
     "output_type": "stream",
     "text": [
      "Thought: I need to find the average weight of a Toy Poodle using the average_dog_weight action. \n",
      "Action: average_dog_weight: Toy Poodle\n",
      "PAUSE\n"
     ]
    }
   ],
   "source": [
    "result = my_bot(\"How much does a toy poodle weigh?\")\n",
    "print(\n",
    "    result\n",
    ")  # this will output Action to let you know that you (as user) should use average_dog_weight function to lookup how much a Toy Poodle wights"
   ]
  },
  {
   "cell_type": "code",
   "execution_count": 13,
   "id": "237bba0c",
   "metadata": {},
   "outputs": [
    {
     "data": {
      "text/plain": [
       "'a toy poodles average weight is 7 lbs'"
      ]
     },
     "execution_count": 13,
     "metadata": {},
     "output_type": "execute_result"
    }
   ],
   "source": [
    "result = average_dog_weight(\"Toy Poodle\")\n",
    "result"
   ]
  },
  {
   "cell_type": "code",
   "execution_count": 14,
   "id": "199154db",
   "metadata": {},
   "outputs": [],
   "source": [
    "next_prompt = \"Observation: {}\".format(result)"
   ]
  },
  {
   "cell_type": "code",
   "execution_count": 15,
   "id": "ed718a1f",
   "metadata": {},
   "outputs": [
    {
     "data": {
      "text/plain": [
       "[{'role': 'system',\n",
       "  'content': 'You run in a loop of Thought, Action, PAUSE, Observation.\\nAt the end of the loop you output an Answer\\nUse Thought to describe your thoughts about the question you have been asked.\\nUse Action to run one of the actions available to you - then return PAUSE.\\nObservation will be the result of running those actions.\\n\\nYour available actions are:\\n\\ncalculate:\\ne.g. calculate: 4 * 7 / 3\\nRuns a calculation and returns the number - uses Python so be sure to use floating point syntax if necessary\\n\\naverage_dog_weight:\\ne.g. average_dog_weight: Collie\\nreturns average weight of a dog when given the breed\\n\\nExample session:\\n\\nQuestion: How much does a Bulldog weigh?\\nThought: I should look the dogs weight using average_dog_weight\\nAction: average_dog_weight: Bulldog\\nPAUSE\\n\\nYou will be called again with this:\\n\\nObservation: A Bulldog weights 51 lbs\\n\\nYou then output:\\n\\nAnswer: A bulldog weights 51 lbs'},\n",
       " {'role': 'user', 'content': 'How much does a toy poodle weigh?'},\n",
       " {'role': 'user', 'content': 'How much does a toy poodle weigh?'},\n",
       " {'role': 'assistant',\n",
       "  'content': 'Thought: I need to find the average weight of a Toy Poodle using the average_dog_weight action. \\nAction: average_dog_weight: Toy Poodle\\nPAUSE'},\n",
       " {'role': 'user',\n",
       "  'content': 'Observation: a toy poodles average weight is 7 lbs'},\n",
       " {'role': 'assistant',\n",
       "  'content': 'Answer: A Toy Poodle weighs an average of 7 lbs.'}]"
      ]
     },
     "execution_count": 15,
     "metadata": {},
     "output_type": "execute_result"
    }
   ],
   "source": [
    "my_bot(next_prompt)\n",
    "my_bot.messages"
   ]
  },
  {
   "cell_type": "markdown",
   "id": "13ea3951",
   "metadata": {},
   "source": [
    "Next example with more complex question"
   ]
  },
  {
   "cell_type": "code",
   "execution_count": null,
   "id": "09950e30",
   "metadata": {},
   "outputs": [
    {
     "data": {
      "text/plain": [
       "\"Thought: I need to find the average weights of both a Border Collie and a Scottish Terrier to calculate their combined weight. I'll use the average_dog_weight action for both breeds. \\n\\nAction: average_dog_weight: Border Collie\\nPAUSE\""
      ]
     },
     "execution_count": 16,
     "metadata": {},
     "output_type": "execute_result"
    }
   ],
   "source": [
    "my_bot = Agent(prompt)  # to clean prev histories\n",
    "\n",
    "question = \"\"\"I have 2 dogs, a border collie and a scottish terrier. \\\n",
    "What is their combined weight\"\"\"\n",
    "\n",
    "my_bot(question)"
   ]
  },
  {
   "cell_type": "markdown",
   "id": "5d940046",
   "metadata": {},
   "source": [
    "The answer from above code is \n",
    "\n",
    "\"Thought: I need to find the average weights of both a Border Collie and a Scottish Terrier to calculate their combined weight. I'll use the average_dog_weight action for both breeds. \\n\\nAction: average_dog_weight: Border Collie\\nPAUSE\""
   ]
  },
  {
   "cell_type": "code",
   "execution_count": 17,
   "id": "fb196da7",
   "metadata": {},
   "outputs": [
    {
     "name": "stdout",
     "output_type": "stream",
     "text": [
      "Observation: a Border Collies average weight is 37 lbs\n"
     ]
    }
   ],
   "source": [
    "next_prompt = \"Observation: {}\".format(average_dog_weight(\"Border Collie\"))\n",
    "print(next_prompt)"
   ]
  },
  {
   "cell_type": "code",
   "execution_count": 18,
   "id": "9a207718",
   "metadata": {},
   "outputs": [
    {
     "data": {
      "text/plain": [
       "'Thought: Now I need to find the average weight of a Scottish Terrier to complete the calculation for their combined weight.\\n\\nAction: average_dog_weight: Scottish Terrier\\nPAUSE'"
      ]
     },
     "execution_count": 18,
     "metadata": {},
     "output_type": "execute_result"
    }
   ],
   "source": [
    "my_bot(next_prompt)"
   ]
  },
  {
   "cell_type": "code",
   "execution_count": 19,
   "id": "40b400eb",
   "metadata": {},
   "outputs": [
    {
     "name": "stdout",
     "output_type": "stream",
     "text": [
      "Observation: Scottish Terriers average 20 lbs\n"
     ]
    }
   ],
   "source": [
    "next_prompt = \"Observation: {}\".format(average_dog_weight(\"Scottish Terrier\"))\n",
    "print(next_prompt)"
   ]
  },
  {
   "cell_type": "code",
   "execution_count": 20,
   "id": "3800de7d",
   "metadata": {},
   "outputs": [
    {
     "data": {
      "text/plain": [
       "'Thought: I now have the average weights for both dogs: a Border Collie weighs 37 lbs and a Scottish Terrier weighs 20 lbs. I can calculate their combined weight by adding these two values together.\\n\\nAction: calculate: 37 + 20\\nPAUSE'"
      ]
     },
     "execution_count": 20,
     "metadata": {},
     "output_type": "execute_result"
    }
   ],
   "source": [
    "my_bot(next_prompt)"
   ]
  },
  {
   "cell_type": "code",
   "execution_count": 21,
   "id": "e9c3bb48",
   "metadata": {},
   "outputs": [
    {
     "name": "stdout",
     "output_type": "stream",
     "text": [
      "Observation: 57\n"
     ]
    }
   ],
   "source": [
    "next_prompt = \"Observation: {}\".format(eval(\"37 + 20\"))\n",
    "print(next_prompt)"
   ]
  },
  {
   "cell_type": "code",
   "execution_count": 22,
   "id": "4abe8e2d",
   "metadata": {},
   "outputs": [
    {
     "data": {
      "text/plain": [
       "'Answer: The combined weight of a Border Collie and a Scottish Terrier is 57 lbs.'"
      ]
     },
     "execution_count": 22,
     "metadata": {},
     "output_type": "execute_result"
    }
   ],
   "source": [
    "my_bot(next_prompt)"
   ]
  },
  {
   "cell_type": "markdown",
   "id": "54f021da",
   "metadata": {},
   "source": [
    "### Now let's automate this tool-calling agent"
   ]
  },
  {
   "cell_type": "code",
   "execution_count": 28,
   "id": "74a68346",
   "metadata": {},
   "outputs": [],
   "source": [
    "action_re = re.compile(r\"^Action: (\\w+): (.*)$\")"
   ]
  },
  {
   "cell_type": "markdown",
   "id": "bafb4397",
   "metadata": {},
   "source": [
    "```\n",
    "^             → Matches the start of the string  \n",
    "Action:       → Matches the literal text \"Action:\"  \n",
    "(\\w+)         → Captures one or more word characters (letters, digits, or underscores); this represents the action name  \n",
    ":             → Matches a literal colon  \n",
    "(.*)          → Captures any remaining characters until the end of the line; this represents the action input or arguments  \n",
    "$             → Matches the end of the string  \n",
    "```"
   ]
  },
  {
   "cell_type": "markdown",
   "id": "b32d8820",
   "metadata": {},
   "source": [
    "Example\n",
    "\n",
    "```py\n",
    "line = \"Action: Search: what is the capital of France?\"\n",
    "match = action_re.match(line)\n",
    "\n",
    "if match:\n",
    "    action_name = match.group(1)  # \"Search\"\n",
    "    action_input = match.group(2)  # \"what is the capital of France?\"\n",
    "```"
   ]
  },
  {
   "cell_type": "code",
   "execution_count": null,
   "id": "0090a17f",
   "metadata": {},
   "outputs": [],
   "source": [
    "def query(question, max_turns=5):\n",
    "    \"\"\"\n",
    "    Conduct a multi-turn interaction with an agent, optionally executing actions\n",
    "    returned in the agent's response.\n",
    "\n",
    "    Parameters:\n",
    "        question (str): The initial user question to ask the agent.\n",
    "        max_turns (int): Maximum number of turns (loop iterations) allowed.\n",
    "\n",
    "    Returns:\n",
    "        None or final response if no action is found.\n",
    "    \"\"\"\n",
    "    i = 0  # turn counter\n",
    "    bot = Agent(prompt)  # instantiate the agent with an optional system prompt\n",
    "    next_prompt = question  # start with the user's question\n",
    "\n",
    "    while i < max_turns:\n",
    "        i += 1\n",
    "        result = bot(next_prompt)  # send the prompt to the agent and get its response\n",
    "        print(result)\n",
    "\n",
    "        # Try to extract action lines using regex, e.g., \"Action: Search: query\"\n",
    "        actions = [action_re.match(a) for a in result.split(\"\\n\") if action_re.match(a)]\n",
    "\n",
    "        # \"Action: average_dog_weight: Border Colli\" -> average_dog_weight, Border Colli\n",
    "        # \"Action: average_dog_weight: Scottish Terrier\" -> average_dog_weight, Scottish Terrier\n",
    "        # \"Action: calculate: 37 + 20\" -> calculate, 37 + 20\n",
    "\n",
    "        if actions:\n",
    "            # Action found in response\n",
    "            action, action_input = actions[0].groups()\n",
    "\n",
    "            # Ensure the action is known and supported\n",
    "            if action not in known_actions:\n",
    "                raise Exception(\"Unknown action: {}: {}\".format(action, action_input))\n",
    "\n",
    "            print(\" -- running {} {}\".format(action, action_input))\n",
    "\n",
    "            # Execute the corresponding action with the provided input\n",
    "            observation = known_actions[action](action_input)\n",
    "            print(\"Observation:\", observation)\n",
    "\n",
    "            # Feed the observation back into the agent for the next turn\n",
    "            next_prompt = \"Observation: {}\".format(observation)\n",
    "        else:\n",
    "            # No action detected in the response — terminate\n",
    "            return"
   ]
  },
  {
   "cell_type": "code",
   "execution_count": 27,
   "id": "5db3b9ce",
   "metadata": {},
   "outputs": [
    {
     "name": "stdout",
     "output_type": "stream",
     "text": [
      "Thought: I need to find the average weights of both a Border Collie and a Scottish Terrier to calculate their combined weight. I'll use the average_dog_weight action for both breeds. \n",
      "\n",
      "Action: average_dog_weight: Border Collie\n",
      "PAUSE\n",
      " -- running average_dog_weight Border Collie\n",
      "Observation: a Border Collies average weight is 37 lbs\n",
      "Thought: Now I need to find the average weight of a Scottish Terrier to complete the calculation for their combined weight.\n",
      "\n",
      "Action: average_dog_weight: Scottish Terrier\n",
      "PAUSE\n",
      " -- running average_dog_weight Scottish Terrier\n",
      "Observation: Scottish Terriers average 20 lbs\n",
      "Thought: I now have the average weights for both dogs: a Border Collie weighs 37 lbs and a Scottish Terrier weighs 20 lbs. I can calculate their combined weight by adding these two values together.\n",
      "\n",
      "Action: calculate: 37 + 20\n",
      "PAUSE\n",
      " -- running calculate 37 + 20\n",
      "Observation: 57\n",
      "Answer: The combined weight of a Border Collie and a Scottish Terrier is 57 lbs.\n"
     ]
    }
   ],
   "source": [
    "question = \"\"\"I have 2 dogs, a border collie and a scottish terrier. \\\n",
    "What is their combined weight\"\"\"\n",
    "\n",
    "query(question)"
   ]
  }
 ],
 "metadata": {
  "kernelspec": {
   "display_name": "agent-in-langgraph-py3.12",
   "language": "python",
   "name": "python3"
  },
  "language_info": {
   "codemirror_mode": {
    "name": "ipython",
    "version": 3
   },
   "file_extension": ".py",
   "mimetype": "text/x-python",
   "name": "python",
   "nbconvert_exporter": "python",
   "pygments_lexer": "ipython3",
   "version": "3.12.9"
  }
 },
 "nbformat": 4,
 "nbformat_minor": 5
}
