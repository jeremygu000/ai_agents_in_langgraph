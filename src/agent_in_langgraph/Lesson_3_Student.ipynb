{
 "cells": [
  {
   "cell_type": "code",
   "execution_count": 10,
   "id": "af2f3e14",
   "metadata": {},
   "outputs": [],
   "source": [
    "# choose location (try to change to your own city!)\n",
    "\n",
    "city = \"Sydney\"\n",
    "\n",
    "query = f\"\"\"\n",
    "    what is the current weather in {city}?\n",
    "    Should I travel there today?\n",
    "    \"weather.com\"\n",
    "\"\"\""
   ]
  },
  {
   "cell_type": "code",
   "execution_count": 12,
   "id": "2cde2468",
   "metadata": {},
   "outputs": [
    {
     "name": "stderr",
     "output_type": "stream",
     "text": [
      "/var/folders/6f/yk_bgn4549g2b7hgr23qy74w0000gn/T/ipykernel_86009/2852339428.py:6: RuntimeWarning: This package (`duckduckgo_search`) has been renamed to `ddgs`! Use `pip install ddgs` instead.\n",
      "  ddg = DDGS()\n"
     ]
    },
    {
     "name": "stdout",
     "output_type": "stream",
     "text": [
      "https://current.com/\n",
      "https://current.com/product-explainer/\n",
      "https://current.com/qr/qr-homepage/\n",
      "https://current.com/text-now-sim-card-terms-and-conditions/\n",
      "https://support.current.com/hc/en-us/sections/360003247253-Getting-Started\n",
      "https://support.current.com/hc/en-us/articles/4408250104859-How-do-I-log-in-to-my-Current-Account\n"
     ]
    }
   ],
   "source": [
    "import requests\n",
    "from bs4 import BeautifulSoup\n",
    "from duckduckgo_search import DDGS\n",
    "import re\n",
    "\n",
    "ddg = DDGS()\n",
    "\n",
    "def search(query, max_results=6):\n",
    "    try:\n",
    "        results = ddg.text(query, max_results=max_results)\n",
    "        return [i[\"href\"] for i in results]\n",
    "    except Exception as e:\n",
    "        print(f\"returning previous results due to exception reaching ddg.\")\n",
    "        results = [ # cover case where DDG rate limits due to high deeplearning.ai volume\n",
    "            \"https://weather.com/weather/today/l/USCA0987:1:US\",\n",
    "            \"https://weather.com/weather/hourbyhour/l/54f9d8baac32496f6b5497b4bf7a277c3e2e6cc5625de69680e6169e7e38e9a8\",\n",
    "        ]\n",
    "        return results  \n",
    "\n",
    "\n",
    "for i in search(query):\n",
    "    print(i)"
   ]
  },
  {
   "cell_type": "code",
   "execution_count": 13,
   "id": "e1eacffd",
   "metadata": {},
   "outputs": [],
   "source": [
    "def scrape_weather_info(url):\n",
    "    \"\"\"Scrape content from the given URL\"\"\"\n",
    "    if not url:\n",
    "        return \"Weather information could not be found.\"\n",
    "    \n",
    "    # fetch data\n",
    "    headers = {'User-Agent': 'Mozilla/5.0'}\n",
    "    response = requests.get(url, headers=headers)\n",
    "    if response.status_code != 200:\n",
    "        return \"Failed to retrieve the webpage.\"\n",
    "\n",
    "    # parse result\n",
    "    soup = BeautifulSoup(response.text, 'html.parser')\n",
    "    return soup"
   ]
  },
  {
   "cell_type": "code",
   "execution_count": 14,
   "id": "9879c954",
   "metadata": {},
   "outputs": [
    {
     "name": "stdout",
     "output_type": "stream",
     "text": [
      "Website: https://current.com/\n",
      "\n",
      "\n",
      "None\n"
     ]
    }
   ],
   "source": [
    "# use DuckDuckGo to find websites and take the first result\n",
    "url = search(query)[0]\n",
    "\n",
    "# scrape first wesbsite\n",
    "soup = scrape_weather_info(url)\n",
    "\n",
    "print(f\"Website: {url}\\n\\n\")\n",
    "print(str(soup.body)[:50000]) # limit long outputs"
   ]
  },
  {
   "cell_type": "code",
   "execution_count": 15,
   "id": "66751902",
   "metadata": {},
   "outputs": [
    {
     "name": "stdout",
     "output_type": "stream",
     "text": [
      "Website: https://current.com/\n",
      "\n",
      "\n",
      "Paycheck Advance Disclosures Paycheck Advance is for eligible customers only. Your actual available Paycheck Advance amount will be displayed to you in the mobile app and may change from time to time. Conditions and eligibility may vary and are subject to change at any time, at the sole discretion of Finco Advance LLC, which offers this optional feature. Finco Advance LLC is a financial technology company, not a bank. For more information, please refer to Paycheck Advance Terms and Conditions . Paycheck Advance Disclosures Paycheck Advance is for eligible customers only. Your actual available Paycheck Advance amount will be displayed to you in the mobile app and may change from time to time. Conditions and eligibility may vary and are subject to change at any time, at the sole discretion of Finco Advance LLC, which offers this optional feature. Finco Advance LLC is a financial technology company, not a bank. For more information, please refer to Paycheck Advance Terms and Conditions . Paycheck Advance Disclosures Paycheck Advance is for eligible customers only. Your actual available Paycheck Advance amount will be displayed to you in the mobile app and may change from time to time. Conditions and eligibility may vary and are subject to change at any time, at the sole discretion of Finco Advance LLC, which offers this optional feature. Finco Advance LLC is a financial technology company, not a bank. For more information, please refer to Paycheck Advance Terms and Conditions . Paycheck Advance Disclosures Paycheck Advance is for eligible customers only. Your actual available Paycheck Advance amount will be displayed to you in the mobile app and may change from time to time. Conditions and eligibility may vary and are subject to change at any time, at the sole discretion of Finco Advance LLC, which offers this optional feature. Finco Advance LLC is a financial technology company, not a bank. For more information, please refer to Paycheck Advance Terms and Conditions . Paycheck Advance Disclosures Paycheck Advance is for eligible customers only. Your actual available Paycheck Advance amount will be displayed to you in the mobile app and may change from time to time. Conditions and eligibility may vary and are subject to change at any time, at the sole discretion of Finco Advance LLC, which offers this optional feature. Finco Advance LLC is a financial technology company, not a bank. For more information, please refer to Paycheck Advance Terms and Conditions . Paycheck Advance Disclosures Paycheck Advance is for eligible customers only. Your actual available Paycheck Advance amount will be displayed to you in the mobile app and may change from time to time. Conditions and eligibility may vary and are subject to change at any time, at the sole discretion of Finco Advance LLC, which offers this optional feature. Finco Advance LLC is a financial technology company, not a bank. For more information, please refer to Paycheck Advance Terms and Conditions . Paycheck Advance Disclosures Paycheck Advance is for eligible customers only. Your actual available Paycheck Advance amount will be displayed to you in the mobile app and may change from time to time. Conditions and eligibility may vary and are subject to change at any time, at the sole discretion of Finco Advance LLC, which offers this optional feature. Finco Advance LLC is a financial technology company, not a bank. For more information, please refer to Paycheck Advance Terms and Conditions . Paycheck Advance Disclosures Paycheck Advance is for eligible customers only. Your actual available Paycheck Advance amount will be displayed to you in the mobile app and may change from time to time. Conditions and eligibility may vary and are subject to change at any time, at the sole discretion of Finco Advance LLC, which offers this optional feature. Finco Advance LLC is a financial technology company, not a bank. For more information, please refer to Paycheck Advance Terms and Conditions . Paycheck Advance Disclosures Paycheck Advance is for eligible customers only. Your actual available Paycheck Advance amount will be displayed to you in the mobile app and may change from time to time. Conditions and eligibility may vary and are subject to change at any time, at the sole discretion of Finco Advance LLC, which offers this optional feature. Finco Advance LLC is a financial technology company, not a bank. For more information, please refer to Paycheck Advance Terms and Conditions . Paycheck Advance Disclosures Paycheck Advance is for eligible customers only. Your actual available Paycheck Advance amount will be displayed to you in the mobile app and may change from time to time. Conditions and eligibility may vary and are subject to change at any time, at the sole discretion of Finco Advance LLC, which offers this optional feature. Finco Advance LLC is a financial technology company, not a bank. For more information, please refer to Paycheck Advance Terms and Conditions . Paycheck Advance Disclosures Paycheck Advance is for eligible customers only. Your actual available Paycheck Advance amount will be displayed to you in the mobile app and may change from time to time. Conditions and eligibility may vary and are subject to change at any time, at the sole discretion of Finco Advance LLC, which offers this optional feature. Finco Advance LLC is a financial technology company, not a bank. For more information, please refer to Paycheck Advance Terms and Conditions . Paycheck Advance Disclosures Paycheck Advance is for eligible customers only. Your actual available Paycheck Advance amount will be displayed to you in the mobile app and may change from time to time. Conditions and eligibility may vary and are subject to change at any time, at the sole discretion of Finco Advance LLC, which offers this optional feature. Finco Advance LLC is a financial technology company, not a bank. For more information, please refer to Paycheck Advance Terms and Conditions . Paycheck Advance Disclosures Paycheck Advance is for eligible customers only. Your actual available Paycheck Advance amount will be displayed to you in the mobile app and may change from time to time. Conditions and eligibility may vary and are subject to change at any time, at the sole discretion of Finco Advance LLC, which offers this optional feature. Finco Advance LLC is a financial technology company, not a bank. For more information, please refer to Paycheck Advance Terms and Conditions . Paycheck Advance Disclosures Paycheck Advance is for eligible customers only. Your actual available Paycheck Advance amount will be displayed to you in the mobile app and may change from time to time. Conditions and eligibility may vary and are subject to change at any time, at the sole discretion of Finco Advance LLC, which offers this optional feature. Finco Advance LLC is a financial technology company, not a bank. For more information, please refer to Paycheck Advance Terms and Conditions . Paycheck Advance Disclosures Paycheck Advance is for eligible customers only. Your actual available Paycheck Advance amount will be displayed to you in the mobile app and may change from time to time. Conditions and eligibility may vary and are subject to change at any time, at the sole discretion of Finco Advance LLC, which offers this optional feature. Finco Advance LLC is a financial technology company, not a bank. For more information, please refer to Paycheck Advance Terms and Conditions . Paycheck Advance Disclosures Paycheck Advance is for eligible customers only. Your actual available Paycheck Advance amount will be displayed to you in the mobile app and may change from time to time. Conditions and eligibility may vary and are subject to change at any time, at the sole discretion of Finco Advance LLC, which offers this optional feature. Finco Advance LLC is a financial technology company, not a bank. For more information, please refer to Paycheck Advance Terms and Conditions . Paycheck Advance Disclosures Paycheck Advance is for eligible customers only. Your actual available Paycheck Advance amount will be displayed to you in the mobile app and may change from time to time. Conditions and eligibility may vary and are subject to change at any time, at the sole discretion of Finco Advance LLC, which offers this optional feature. Finco Advance LLC is a financial technology company, not a bank. For more information, please refer to Paycheck Advance Terms and Conditions . Paycheck Advance Disclosures Paycheck Advance is for eligible customers only. Your actual available Paycheck Advance amount will be displayed to you in the mobile app and may change from time to time. Conditions and eligibility may vary and are subject to change at any time, at the sole discretion of Finco Advance LLC, which offers this optional feature. Finco Advance LLC is a financial technology company, not a bank. For more information, please refer to Paycheck Advance Terms and Conditions . Power up your paycheck when you switch to Current Advance up to $750 It’s your paycheck – get access to more of it, when you need it most. ⓘ Paycheck Advance Disclosures Paycheck Advance is for eligible customers only. Your actual available Paycheck Advance amount will be displayed to you in the mobile app and may change from time to time. Conditions and eligibility may vary and are subject to change at any time, at the sole discretion of Finco Advance LLC, which offers this optional feature. Finco Advance LLC is a financial technology company, not a bank. For more information, please refer to Paycheck Advance Terms and Conditions . Fee-free Overdraft Breeze from payday to payday with access to fee-free overdraft. ⓘ Fee-free Overdraft Disclosures Actual overdraft amount may vary and is subject to change at any time, at Current’s sole discretion. In order to qualify and enroll in the Fee-Free Overdraft feature, you must receive a minimum of $200 or more in Eligible Direct Deposits into your Current Account over the preceding 35-day period and fulfill other requirements subject to Current’s discretion. Negative balances must be repaid within 60 days of the first Eligible Transaction that caused the negative balance. For more information, please refer to Fee-free Overdraft Terms and Conditions . Individual Current Accounts only. Payday up to 2 days early Direct deposits are released as soon as your employer sends them. ⓘ Faster Direct Deposit Disclosures Faster access to funds is based on comparison of traditional banking policies and deposit of paper checks from employers and government agencies versus deposits made electronically. Direct deposit and earlier availability of funds is subject to timing of payer's submission of deposits. Advance up to $750 It’s your paycheck – get access to more of it, when you need it most. ⓘ Paycheck Advance Disclosures Paycheck Advance is for eligible customers only. Your actual available Paycheck Advance amount will be displayed to you in the mobile app and may change from time to time. Conditions and eligibility may vary and are subject to change at any time, at the sole discretion of Finco Advance LLC, which offers this optional feature. Finco Advance LLC is a financial technology company, not a bank. For more information, please refer to Paycheck Advance Terms and Conditions . Fee-free Overdraft Breeze from payday to payday with access to fee-free overdraft. ⓘ Fee-free Overdraft Disclosures Actual overdraft amount may vary and is subject to change at any time, at Current’s sole discretion. In order to qualify and enroll in the Fee-Free Overdraft feature, you must receive a minimum of $200 or more in Eligible Direct Deposits into your Current Account over the preceding 35-day period and fulfill other requirements subject to Current’s discretion. Negative balances must be repaid within 60 days of the first Eligible Transaction that caused the negative balance. For more information, please refer to Fee-free Overdraft Terms and Conditions . Individual Current Accounts only. Payday up to 2 days early Direct deposits are released as soon as your employer sends them. ⓘ Faster Direct Deposit Disclosures Faster access to funds is based on comparison of traditional banking policies and deposit of paper checks from employers and government agencies versus deposits made electronically. Direct deposit and earlier availability of funds is subject to timing of payer's submission of deposits. CREDIT BUILDING Boost your credit score by over 80 points after just six months. Plus, get 1% cash back on dining and groceries. ⓘ Credit Building Disclosures Individual results may vary. Using your credit card responsibly may allow you to improve your credit score. Credit building depends on various factors, including your payment history, credit utilization, length of credit history, and other financial activities. For eligible customers only. You may earn Points in connection with your Build Card purchases at retailers whose merchant code is classified as: Dining (e.g., restaurants) and Groceries (e.g., supermarkets) and by completing other actions that Current designates as subject to the Current Points Program. The amount of Points granted for different actions as well as the purchase requirements necessary to earn Points will vary, and is subject to Current’s sole discretion. After qualifying, please allow 3-5 business days for points to post to your Current account. Points will expire 365 days after they settle. For more information (including specific eligibility criteria), please refer to the Current Points Terms and Conditions. Join over 6 million members Bank anywhere. 24/7 support. 24/7 fast and helpful support 40,000+ fee-free ATMs nationwide Easy cash deposits in-store Convenient locations like CVS, Walgreens, and McDonalds SAVE Earn up to 4.00% on your savings Save automatically with Round-Ups, set your goals, and more. ⓘ Savings Pods Disclosures Boost Bonuses are credited to your Savings Pods within 48 hours of enabling the Boost feature and on a daily basis thereafter, provided that the Savings Pod has accrued a Boost Bonus of at least $0.01. The Boost rate on Savings Pods is variable and may change at any time. The disclosed rate is effective as of August 1, 2023. Must have $0.01 in Savings Pods to earn a Boost rate of either 0.25% or 4.00% annually on the portion of balances up to $2000 per Savings Pod, up to $6000 total. The remaining balance earns 0.00%. To earn a Boost rate of 4.00%, the sum of your Eligible Payroll Deposits over a rolling 35-day period must be $500 or more, with at least one Eligible Payroll Deposit equalling a minimum of $200. No minimum balance required. For more information, please refer to Current Boost Terms and Conditions . INVEST Trade crypto without fees Pick from dozens of coins, access money instantly, without any trading fees, all without switching apps. ⓘ Crypto Disclosures Cryptocurrency services are powered by Zero Hash LLC and Zero Hash Liquidity Services LLC, and may not be available in all states. Terms and conditions apply. When you buy or sell cryptocurrency, a difference between the current market price and the price you buy or sell that asset for is called a spread. However, unlike most other exchanges, Current does not charge an additional trading fee. Cryptocurrency transactions are a form of investment, and all investments are subject to investment risks, including possible loss of the principal amount invested. Cryptocurrency is not insured by the FDIC or any other government-backed or third-party insurance. Your purchase of cryptocurrency is not a deposit or other obligation of, or guaranteed by, Choice Financial Group or Cross River Bank. The cryptocurrency assets in your Zero Hash account are not held at Current, Choice Financial Group, or Cross River Bank. Current, Choice Financial Group, and Cross River Bank are not responsible for the cryptocurrency assets held in any Zero Hash account. Neither Current, Choice, nor Cross River Bank is involved in the purchase, sale, exchange of fiat funds for cryptocurrency, or custody of the cryptocurrencies. Terms and Conditions apply. Licensed to engage in Virtual Currency Business Activity by the New York State Department of Financial Services. This does not constitute investment advice. TEEN BANKING Give teens their very own debit card Empower your kids with automatic allowances, instant transfers, and real-time spending alerts. Safe and secure. Instant notifications Stay up-to-date with your account with helpful notifications Card control Instantly block transactions, merchants, or pause your card. Industry leading security Stay secure with Face ID, fingerprint lock, and passkeys. Power up your paycheck today Power up your paycheck today You're almost in Enter your phone number below and we'll send you a link to download the app to set up your account. Download the app Welcome to the future of banking! You're almost done. just scan the QR code to download the Current app and finish setting up your account. Welcome to the future of banking! You're almost done, just download the Current app for your device and complete your account set up. Get the app & get your money going Help Company Copyright © 2016 - 2025 Current Current is a financial technology company, not an FDIC-insured bank. FDIC insurance up to $250,000 only covers the failure of an FDIC-insured bank. Certain conditions must be satisfied for pass-through deposit insurance coverage to apply. Banking services provided by Choice Financial Group, Member FDIC, and/or Cross River Bank, Member FDIC. The Current Visa® Debit Card, which may be issued by Choice Financial Group and/or Cross River Bank, and the Current Visa® secured charge card issued by Cross River Bank, are both pursuant to licenses from Visa U.S.A. Inc. and may be used everywhere Visa debit or credit cards are accepted. Current deposit account required to apply for the Current Visa® secured charge card. Independent approval required. FDIC Insurance Current is a financial technology company, not an FDIC-insured bank. FDIC insurance only covers the failure of an FDIC-insured bank. FDIC insurance up to $250,000 is available on customer funds through pass-through insurance at Choice Financial Group, Member FDIC, and Cross River Bank, Member FDIC where we have a direct relationship for the placement of deposits and into which customer funds are deposited, but only if certain conditions have been met. There may be a risk that FDIC insurance is not available because conditions have not been satisfied. In such cases, funds may not be fully insured in the event the insured depository institution where the funds have been deposited were to fail. Faster Direct Deposit Faster access to funds is based on comparison of traditional banking policies and deposit of paper checks from employers and government agencies versus deposits made electronically. Direct deposit and earlier availability of funds is subject to timing of payer's submission of deposits. Fees Some fees may apply, including out of network ATM fees, late payment fees, and other fees. For more information please see Current Build Card Rates & Fees and the Current Deposit Account Agreement . Paycheck Advance Paycheck Advance is offered by Finco Advance LLC, a financial technology company, not a bank and is for eligible customers only. Your actual available Paycheck Advance amount will be displayed to you in the mobile app and may change from time to time. Conditions and eligibility may vary and are subject to change at any time, at the sole discretion of Finco Advance LLC. For more information, please refer to Paycheck Advance Terms and Conditions . Savings Pods Boost Bonuses are credited to your Savings Pods within 48 hours of enabling the Boost feature and on a daily basis thereafter, provided that the Savings Pod has accrued a Boost Bonus of at least $0.01. No minimum balance required. The Boost rate on Savings Pods is variable and may change at any time. The disclosed rate is effective as of August 1, 2023. Must have $0.01 in Savings Pods to earn a Boost rate of either 0.25% or 4.00% annually on the portion of balances up to $2000 per Savings Pod, up to $6000 total. The remaining balance earns 0.00%. To earn a Boost rate of 4.00%, the sum of your Eligible Payroll Deposits over a rolling 35-day period must be $500 or more, with at least one Eligible Payroll Deposit equalling a minimum of $200. For more information, please refer to Current Boost Terms and Conditions . Fee-free Overdraft Actual overdraft amount may vary and is subject to change at any time, at Current’s sole discretion. In order to qualify and enroll in the Fee-Free Overdraft feature, you must receive a minimum of $200 or more in Eligible Direct Deposits into your Current Account over the preceding 35-day period and fulfill other requirements subject to Current’s discretion. Negative balances must be repaid within 60 days of the first Eligible Transaction that caused the negative balance. For more information, please refer to Fee-free Overdraft Terms and Conditions . Individual Current Accounts only. Points For eligible customers only. You may earn Points in connection with your Build Card purchases at retailers whose merchant code is classified as: Dining (e.g., restaurants) and Groceries (e.g., supermarkets) and by completing other actions that Current designates as subject to the Current Points Program. The amount of Points granted for different actions as well as the purchase requirements necessary to earn Points will vary, and is subject to Current’s sole discretion. After qualifying, please allow 3-5 business days for points to post to your Current account. Points will expire 365 days after they settle. For more information (including specific eligibility criteria), please refer to the Current Points Terms and Conditions . Crypto Cryptocurrency services are powered by Zero Hash LLC and Zero Hash Liquidity Services LLC, and may not be available in all states. Terms and conditions apply. When you buy or sell cryptocurrency, a difference between the current market price and the price you buy or sell that asset for is called a spread. However, unlike most other exchanges Current does not charge an additional trading fee. Cryptocurrency transactions are a form of investment, and all investments are subject to investment risks, including possible loss of the principal amount invested. Cryptocurrency is not insured by the FDIC or any other government-backed or third-party insurance. Your purchase of cryptocurrency is not a deposit or other obligation of, or guaranteed by, Choice Financial Group or Cross River Bank. The cryptocurrency assets in your Zero Hash account are not held at Current, Choice Financial Group, or Cross River Bank. Current, Choice Financial Group, and Cross River Bank are not responsible for the cryptocurrency assets held in any Zero Hash account. Neither Current, Choice, nor Cross River Bank is involved in the purchase, sale, exchange of fiat funds for cryptocurrency, or custody of the cryptocurrencies. Terms and Conditions apply ( platform and user agreements .). Zero Hash LLC and Zero Hash Liquidity Services are licensed to engage in Virtual Currency Business Activity by the New York State Department of Financial Services. This does not constitute investment advice.\n"
     ]
    }
   ],
   "source": [
    "# extract text\n",
    "weather_data = []\n",
    "for tag in soup.find_all(['h1', 'h2', 'h3', 'p']):\n",
    "    text = tag.get_text(\" \", strip=True)\n",
    "    weather_data.append(text)\n",
    "\n",
    "# combine all elements into a single string\n",
    "weather_data = \"\\n\".join(weather_data)\n",
    "\n",
    "# remove all spaces from the combined text\n",
    "weather_data = re.sub(r'\\s+', ' ', weather_data)\n",
    "    \n",
    "print(f\"Website: {url}\\n\\n\")\n",
    "print(weather_data)"
   ]
  },
  {
   "cell_type": "code",
   "execution_count": 16,
   "id": "98de13d7",
   "metadata": {},
   "outputs": [],
   "source": [
    "from dotenv import load_dotenv\n",
    "import os\n",
    "from tavily import TavilyClient\n",
    "\n",
    "# load environment variables from .env file\n",
    "_ = load_dotenv()\n",
    "\n",
    "# connect\n",
    "client = TavilyClient(api_key=os.environ.get(\"TAVILY_API_KE\"))"
   ]
  },
  {
   "cell_type": "code",
   "execution_count": null,
   "id": "44514621",
   "metadata": {},
   "outputs": [],
   "source": [
    "# test run search\n",
    "result = client.search(\"What is in Nvidia's new Blackwell GPU?\", include_answer=True)\n",
    "\n",
    "# print the answer\n",
    "result[\"answer\"]"
   ]
  },
  {
   "cell_type": "code",
   "execution_count": 17,
   "id": "68ae7e1c",
   "metadata": {},
   "outputs": [
    {
     "name": "stdout",
     "output_type": "stream",
     "text": [
      "{'location': {'name': 'Sydney', 'region': 'New South Wales', 'country': 'Australia', 'lat': -33.8833, 'lon': 151.2167, 'tz_id': 'Australia/Sydney', 'localtime_epoch': 1753134447, 'localtime': '2025-07-22 07:47'}, 'current': {'last_updated_epoch': 1753134300, 'last_updated': '2025-07-22 07:45', 'temp_c': 11.2, 'temp_f': 52.2, 'is_day': 1, 'condition': {'text': 'Partly cloudy', 'icon': '//cdn.weatherapi.com/weather/64x64/day/116.png', 'code': 1003}, 'wind_mph': 7.8, 'wind_kph': 12.6, 'wind_degree': 349, 'wind_dir': 'N', 'pressure_mb': 1019.0, 'pressure_in': 30.09, 'precip_mm': 0.0, 'precip_in': 0.0, 'humidity': 94, 'cloud': 75, 'feelslike_c': 9.7, 'feelslike_f': 49.4, 'windchill_c': 12.5, 'windchill_f': 54.4, 'heatindex_c': 13.5, 'heatindex_f': 56.3, 'dewpoint_c': 10.3, 'dewpoint_f': 50.6, 'vis_km': 10.0, 'vis_miles': 6.0, 'uv': 0.0, 'gust_mph': 13.2, 'gust_kph': 21.3}}\n"
     ]
    }
   ],
   "source": [
    "# run search\n",
    "result = client.search(query, max_results=1)\n",
    "\n",
    "# print first result\n",
    "data = result[\"results\"][0][\"content\"]\n",
    "\n",
    "print(data)"
   ]
  },
  {
   "cell_type": "code",
   "execution_count": 18,
   "id": "4b295982",
   "metadata": {},
   "outputs": [
    {
     "name": "stdout",
     "output_type": "stream",
     "text": [
      "{\u001b[37m\u001b[39;49;00m\n",
      "\u001b[37m    \u001b[39;49;00m\u001b[94m\"location\"\u001b[39;49;00m:\u001b[37m \u001b[39;49;00m{\u001b[37m\u001b[39;49;00m\n",
      "\u001b[37m        \u001b[39;49;00m\u001b[94m\"name\"\u001b[39;49;00m:\u001b[37m \u001b[39;49;00m\u001b[33m\"Sydney\"\u001b[39;49;00m,\u001b[37m\u001b[39;49;00m\n",
      "\u001b[37m        \u001b[39;49;00m\u001b[94m\"region\"\u001b[39;49;00m:\u001b[37m \u001b[39;49;00m\u001b[33m\"New South Wales\"\u001b[39;49;00m,\u001b[37m\u001b[39;49;00m\n",
      "\u001b[37m        \u001b[39;49;00m\u001b[94m\"country\"\u001b[39;49;00m:\u001b[37m \u001b[39;49;00m\u001b[33m\"Australia\"\u001b[39;49;00m,\u001b[37m\u001b[39;49;00m\n",
      "\u001b[37m        \u001b[39;49;00m\u001b[94m\"lat\"\u001b[39;49;00m:\u001b[37m \u001b[39;49;00m\u001b[34m-33.8833\u001b[39;49;00m,\u001b[37m\u001b[39;49;00m\n",
      "\u001b[37m        \u001b[39;49;00m\u001b[94m\"lon\"\u001b[39;49;00m:\u001b[37m \u001b[39;49;00m\u001b[34m151.2167\u001b[39;49;00m,\u001b[37m\u001b[39;49;00m\n",
      "\u001b[37m        \u001b[39;49;00m\u001b[94m\"tz_id\"\u001b[39;49;00m:\u001b[37m \u001b[39;49;00m\u001b[33m\"Australia/Sydney\"\u001b[39;49;00m,\u001b[37m\u001b[39;49;00m\n",
      "\u001b[37m        \u001b[39;49;00m\u001b[94m\"localtime_epoch\"\u001b[39;49;00m:\u001b[37m \u001b[39;49;00m\u001b[34m1753134447\u001b[39;49;00m,\u001b[37m\u001b[39;49;00m\n",
      "\u001b[37m        \u001b[39;49;00m\u001b[94m\"localtime\"\u001b[39;49;00m:\u001b[37m \u001b[39;49;00m\u001b[33m\"2025-07-22 07:47\"\u001b[39;49;00m\u001b[37m\u001b[39;49;00m\n",
      "\u001b[37m    \u001b[39;49;00m},\u001b[37m\u001b[39;49;00m\n",
      "\u001b[37m    \u001b[39;49;00m\u001b[94m\"current\"\u001b[39;49;00m:\u001b[37m \u001b[39;49;00m{\u001b[37m\u001b[39;49;00m\n",
      "\u001b[37m        \u001b[39;49;00m\u001b[94m\"last_updated_epoch\"\u001b[39;49;00m:\u001b[37m \u001b[39;49;00m\u001b[34m1753134300\u001b[39;49;00m,\u001b[37m\u001b[39;49;00m\n",
      "\u001b[37m        \u001b[39;49;00m\u001b[94m\"last_updated\"\u001b[39;49;00m:\u001b[37m \u001b[39;49;00m\u001b[33m\"2025-07-22 07:45\"\u001b[39;49;00m,\u001b[37m\u001b[39;49;00m\n",
      "\u001b[37m        \u001b[39;49;00m\u001b[94m\"temp_c\"\u001b[39;49;00m:\u001b[37m \u001b[39;49;00m\u001b[34m11.2\u001b[39;49;00m,\u001b[37m\u001b[39;49;00m\n",
      "\u001b[37m        \u001b[39;49;00m\u001b[94m\"temp_f\"\u001b[39;49;00m:\u001b[37m \u001b[39;49;00m\u001b[34m52.2\u001b[39;49;00m,\u001b[37m\u001b[39;49;00m\n",
      "\u001b[37m        \u001b[39;49;00m\u001b[94m\"is_day\"\u001b[39;49;00m:\u001b[37m \u001b[39;49;00m\u001b[34m1\u001b[39;49;00m,\u001b[37m\u001b[39;49;00m\n",
      "\u001b[37m        \u001b[39;49;00m\u001b[94m\"condition\"\u001b[39;49;00m:\u001b[37m \u001b[39;49;00m{\u001b[37m\u001b[39;49;00m\n",
      "\u001b[37m            \u001b[39;49;00m\u001b[94m\"text\"\u001b[39;49;00m:\u001b[37m \u001b[39;49;00m\u001b[33m\"Partly cloudy\"\u001b[39;49;00m,\u001b[37m\u001b[39;49;00m\n",
      "\u001b[37m            \u001b[39;49;00m\u001b[94m\"icon\"\u001b[39;49;00m:\u001b[37m \u001b[39;49;00m\u001b[33m\"//cdn.weatherapi.com/weather/64x64/day/116.png\"\u001b[39;49;00m,\u001b[37m\u001b[39;49;00m\n",
      "\u001b[37m            \u001b[39;49;00m\u001b[94m\"code\"\u001b[39;49;00m:\u001b[37m \u001b[39;49;00m\u001b[34m1003\u001b[39;49;00m\u001b[37m\u001b[39;49;00m\n",
      "\u001b[37m        \u001b[39;49;00m},\u001b[37m\u001b[39;49;00m\n",
      "\u001b[37m        \u001b[39;49;00m\u001b[94m\"wind_mph\"\u001b[39;49;00m:\u001b[37m \u001b[39;49;00m\u001b[34m7.8\u001b[39;49;00m,\u001b[37m\u001b[39;49;00m\n",
      "\u001b[37m        \u001b[39;49;00m\u001b[94m\"wind_kph\"\u001b[39;49;00m:\u001b[37m \u001b[39;49;00m\u001b[34m12.6\u001b[39;49;00m,\u001b[37m\u001b[39;49;00m\n",
      "\u001b[37m        \u001b[39;49;00m\u001b[94m\"wind_degree\"\u001b[39;49;00m:\u001b[37m \u001b[39;49;00m\u001b[34m349\u001b[39;49;00m,\u001b[37m\u001b[39;49;00m\n",
      "\u001b[37m        \u001b[39;49;00m\u001b[94m\"wind_dir\"\u001b[39;49;00m:\u001b[37m \u001b[39;49;00m\u001b[33m\"N\"\u001b[39;49;00m,\u001b[37m\u001b[39;49;00m\n",
      "\u001b[37m        \u001b[39;49;00m\u001b[94m\"pressure_mb\"\u001b[39;49;00m:\u001b[37m \u001b[39;49;00m\u001b[34m1019.0\u001b[39;49;00m,\u001b[37m\u001b[39;49;00m\n",
      "\u001b[37m        \u001b[39;49;00m\u001b[94m\"pressure_in\"\u001b[39;49;00m:\u001b[37m \u001b[39;49;00m\u001b[34m30.09\u001b[39;49;00m,\u001b[37m\u001b[39;49;00m\n",
      "\u001b[37m        \u001b[39;49;00m\u001b[94m\"precip_mm\"\u001b[39;49;00m:\u001b[37m \u001b[39;49;00m\u001b[34m0.0\u001b[39;49;00m,\u001b[37m\u001b[39;49;00m\n",
      "\u001b[37m        \u001b[39;49;00m\u001b[94m\"precip_in\"\u001b[39;49;00m:\u001b[37m \u001b[39;49;00m\u001b[34m0.0\u001b[39;49;00m,\u001b[37m\u001b[39;49;00m\n",
      "\u001b[37m        \u001b[39;49;00m\u001b[94m\"humidity\"\u001b[39;49;00m:\u001b[37m \u001b[39;49;00m\u001b[34m94\u001b[39;49;00m,\u001b[37m\u001b[39;49;00m\n",
      "\u001b[37m        \u001b[39;49;00m\u001b[94m\"cloud\"\u001b[39;49;00m:\u001b[37m \u001b[39;49;00m\u001b[34m75\u001b[39;49;00m,\u001b[37m\u001b[39;49;00m\n",
      "\u001b[37m        \u001b[39;49;00m\u001b[94m\"feelslike_c\"\u001b[39;49;00m:\u001b[37m \u001b[39;49;00m\u001b[34m9.7\u001b[39;49;00m,\u001b[37m\u001b[39;49;00m\n",
      "\u001b[37m        \u001b[39;49;00m\u001b[94m\"feelslike_f\"\u001b[39;49;00m:\u001b[37m \u001b[39;49;00m\u001b[34m49.4\u001b[39;49;00m,\u001b[37m\u001b[39;49;00m\n",
      "\u001b[37m        \u001b[39;49;00m\u001b[94m\"windchill_c\"\u001b[39;49;00m:\u001b[37m \u001b[39;49;00m\u001b[34m12.5\u001b[39;49;00m,\u001b[37m\u001b[39;49;00m\n",
      "\u001b[37m        \u001b[39;49;00m\u001b[94m\"windchill_f\"\u001b[39;49;00m:\u001b[37m \u001b[39;49;00m\u001b[34m54.4\u001b[39;49;00m,\u001b[37m\u001b[39;49;00m\n",
      "\u001b[37m        \u001b[39;49;00m\u001b[94m\"heatindex_c\"\u001b[39;49;00m:\u001b[37m \u001b[39;49;00m\u001b[34m13.5\u001b[39;49;00m,\u001b[37m\u001b[39;49;00m\n",
      "\u001b[37m        \u001b[39;49;00m\u001b[94m\"heatindex_f\"\u001b[39;49;00m:\u001b[37m \u001b[39;49;00m\u001b[34m56.3\u001b[39;49;00m,\u001b[37m\u001b[39;49;00m\n",
      "\u001b[37m        \u001b[39;49;00m\u001b[94m\"dewpoint_c\"\u001b[39;49;00m:\u001b[37m \u001b[39;49;00m\u001b[34m10.3\u001b[39;49;00m,\u001b[37m\u001b[39;49;00m\n",
      "\u001b[37m        \u001b[39;49;00m\u001b[94m\"dewpoint_f\"\u001b[39;49;00m:\u001b[37m \u001b[39;49;00m\u001b[34m50.6\u001b[39;49;00m,\u001b[37m\u001b[39;49;00m\n",
      "\u001b[37m        \u001b[39;49;00m\u001b[94m\"vis_km\"\u001b[39;49;00m:\u001b[37m \u001b[39;49;00m\u001b[34m10.0\u001b[39;49;00m,\u001b[37m\u001b[39;49;00m\n",
      "\u001b[37m        \u001b[39;49;00m\u001b[94m\"vis_miles\"\u001b[39;49;00m:\u001b[37m \u001b[39;49;00m\u001b[34m6.0\u001b[39;49;00m,\u001b[37m\u001b[39;49;00m\n",
      "\u001b[37m        \u001b[39;49;00m\u001b[94m\"uv\"\u001b[39;49;00m:\u001b[37m \u001b[39;49;00m\u001b[34m0.0\u001b[39;49;00m,\u001b[37m\u001b[39;49;00m\n",
      "\u001b[37m        \u001b[39;49;00m\u001b[94m\"gust_mph\"\u001b[39;49;00m:\u001b[37m \u001b[39;49;00m\u001b[34m13.2\u001b[39;49;00m,\u001b[37m\u001b[39;49;00m\n",
      "\u001b[37m        \u001b[39;49;00m\u001b[94m\"gust_kph\"\u001b[39;49;00m:\u001b[37m \u001b[39;49;00m\u001b[34m21.3\u001b[39;49;00m\u001b[37m\u001b[39;49;00m\n",
      "\u001b[37m    \u001b[39;49;00m}\u001b[37m\u001b[39;49;00m\n",
      "}\u001b[37m\u001b[39;49;00m\n",
      "\n"
     ]
    }
   ],
   "source": [
    "import json\n",
    "from pygments import highlight, lexers, formatters\n",
    "\n",
    "# parse JSON\n",
    "parsed_json = json.loads(data.replace(\"'\", '\"'))\n",
    "\n",
    "# pretty print JSON with syntax highlighting\n",
    "formatted_json = json.dumps(parsed_json, indent=4)\n",
    "colorful_json = highlight(formatted_json,\n",
    "                          lexers.JsonLexer(),\n",
    "                          formatters.TerminalFormatter())\n",
    "\n",
    "print(colorful_json)"
   ]
  }
 ],
 "metadata": {
  "kernelspec": {
   "display_name": "agent-in-langgraph-py3.12",
   "language": "python",
   "name": "python3"
  },
  "language_info": {
   "codemirror_mode": {
    "name": "ipython",
    "version": 3
   },
   "file_extension": ".py",
   "mimetype": "text/x-python",
   "name": "python",
   "nbconvert_exporter": "python",
   "pygments_lexer": "ipython3",
   "version": "3.12.9"
  }
 },
 "nbformat": 4,
 "nbformat_minor": 5
}
